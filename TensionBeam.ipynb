{
 "cells": [
  {
   "attachments": {
    "BeamTension.png": {
     "image/png": "[encoded data removed]"
    }
   },
   "cell_type": "markdown",
   "metadata": {},
   "source": [
    "# Beam under tensile loading\n",
    "![BeamTension.png](attachment:BeamTension.png)"
   ]
  },
  {
   "cell_type": "code",
   "execution_count": 1,
   "metadata": {},
   "outputs": [],
   "source": [
    "from cartesianUtilities import *\n",
    "from IPython.display import Math, Latex"
   ]
  },
  {
   "cell_type": "code",
   "execution_count": 2,
   "metadata": {},
   "outputs": [],
   "source": [
    "A10, A20, A11, A01, A02, A00 = sp.symbols('A10, A20, A11, A01, A02, A00')\n",
    "T = sp.Symbol('T')"
   ]
  },
  {
   "cell_type": "markdown",
   "metadata": {},
   "source": [
    "Initially we assume a stress function, $\\phi$ which involves all quadratic and lower order terms. However later we may drop several constants depending upon our requirements."
   ]
  },
  {
   "cell_type": "code",
   "execution_count": 3,
   "metadata": {},
   "outputs": [
    {
     "data": {
      "text/latex": [
       "$\\displaystyle \\phi(x,y) = A_{00} + A_{01} y + A_{02} y^{2} + A_{10} x + A_{11} x y + A_{20} x^{2}$"
      ],
      "text/plain": [
       "<IPython.core.display.Math object>"
      ]
     },
     "metadata": {},
     "output_type": "display_data"
    }
   ],
   "source": [
    "phi = A10*x + A20*x**2 + A11*x*y + A01*y + A02*y**2 + A00\n",
    "display(Math('\\phi(x,y) = {}'.format(sp.latex(phi))))"
   ]
  },
  {
   "cell_type": "code",
   "execution_count": 4,
   "metadata": {},
   "outputs": [
    {
     "data": {
      "text/latex": [
       "$\\displaystyle \\sigma_{xx} = 2 A_{02}$"
      ],
      "text/plain": [
       "<IPython.core.display.Math object>"
      ]
     },
     "metadata": {},
     "output_type": "display_data"
    },
    {
     "data": {
      "text/latex": [
       "$\\displaystyle \\sigma_{yy} = 2 A_{20}$"
      ],
      "text/plain": [
       "<IPython.core.display.Math object>"
      ]
     },
     "metadata": {},
     "output_type": "display_data"
    },
    {
     "data": {
      "text/latex": [
       "$\\displaystyle \\sigma_{xy} = A_{11}$"
      ],
      "text/plain": [
       "<IPython.core.display.Math object>"
      ]
     },
     "metadata": {},
     "output_type": "display_data"
    }
   ],
   "source": [
    "sigmaxx = sigma_xx(phi)\n",
    "sigmayy = sigma_yy(phi)\n",
    "sigmaxy = sigma_xy(phi)\n",
    "\n",
    "display(Math('\\sigma_{{xx}} = {}'.format(sp.latex(sigmaxx))))\n",
    "display(Math('\\sigma_{{yy}} = {}'.format(sp.latex(sigmayy))))\n",
    "display(Math('\\sigma_{{xy}} = {}'.format(sp.latex(sigmaxy))))"
   ]
  },
  {
   "cell_type": "markdown",
   "metadata": {},
   "source": [
    "Since we require $\\sigma_{yy}$ and $\\sigma_{xy}$ to be zero at all points, we have to set $A_{20}$ and $A_{11}$ as 0. Moreover all constants except $A_{02}$ turn out to be useless in stress field computations, hence we drop them as well."
   ]
  },
  {
   "cell_type": "code",
   "execution_count": 5,
   "metadata": {},
   "outputs": [
    {
     "data": {
      "text/latex": [
       "$\\displaystyle \\phi = A_{02} y^{2}$"
      ],
      "text/plain": [
       "<IPython.core.display.Math object>"
      ]
     },
     "metadata": {},
     "output_type": "display_data"
    }
   ],
   "source": [
    "phi = phi.subs([(A00,0),(A01,0),(A10,0),(A11,0),(A20,0)])\n",
    "display(Math('\\phi = {}'.format(sp.latex(phi))))"
   ]
  },
  {
   "cell_type": "code",
   "execution_count": 6,
   "metadata": {},
   "outputs": [
    {
     "data": {
      "text/latex": [
       "$\\displaystyle \\sigma_{xx} = 2 A_{02}$"
      ],
      "text/plain": [
       "<IPython.core.display.Math object>"
      ]
     },
     "metadata": {},
     "output_type": "display_data"
    },
    {
     "data": {
      "text/latex": [
       "$\\displaystyle \\sigma_{yy} = 0$"
      ],
      "text/plain": [
       "<IPython.core.display.Math object>"
      ]
     },
     "metadata": {},
     "output_type": "display_data"
    },
    {
     "data": {
      "text/latex": [
       "$\\displaystyle \\sigma_{xy} = 0$"
      ],
      "text/plain": [
       "<IPython.core.display.Math object>"
      ]
     },
     "metadata": {},
     "output_type": "display_data"
    }
   ],
   "source": [
    "sigmaxx = sigma_xx(phi)\n",
    "sigmayy = sigma_yy(phi)\n",
    "sigmaxy = sigma_xy(phi)\n",
    "\n",
    "display(Math('\\sigma_{{xx}} = {}'.format(sp.latex(sigmaxx))))\n",
    "display(Math('\\sigma_{{yy}} = {}'.format(sp.latex(sigmayy))))\n",
    "display(Math('\\sigma_{{xy}} = {}'.format(sp.latex(sigmaxy))))"
   ]
  },
  {
   "cell_type": "markdown",
   "metadata": {},
   "source": [
    "The boundary condition states that $\\sigma_{xx}=T$ at all points, where T is the tension applied at the ends. Other stress components $\\sigma_{yy}$ and $\\sigma_{xy}$ is 0 at all points."
   ]
  },
  {
   "cell_type": "code",
   "execution_count": 7,
   "metadata": {},
   "outputs": [
    {
     "data": {
      "text/latex": [
       "$\\displaystyle 2 A_{02} = T$"
      ],
      "text/plain": [
       "Eq(2*A02, T)"
      ]
     },
     "metadata": {},
     "output_type": "display_data"
    }
   ],
   "source": [
    "eq = sp.Eq(sigmaxx,T)\n",
    "display(eq)\n",
    "sol = sp.solve(eq,A02)"
   ]
  },
  {
   "cell_type": "code",
   "execution_count": 8,
   "metadata": {},
   "outputs": [
    {
     "data": {
      "text/latex": [
       "$\\displaystyle \\phi = \\frac{T y^{2}}{2}$"
      ],
      "text/plain": [
       "<IPython.core.display.Math object>"
      ]
     },
     "metadata": {},
     "output_type": "display_data"
    }
   ],
   "source": [
    "phi_constant = sol[0]\n",
    "phi = phi.subs(A02,phi_constant)\n",
    "display(Math('\\phi = {}'.format(sp.latex(phi))))"
   ]
  },
  {
   "cell_type": "code",
   "execution_count": 9,
   "metadata": {},
   "outputs": [
    {
     "data": {
      "text/latex": [
       "$\\displaystyle \\sigma_{xx} = T$"
      ],
      "text/plain": [
       "<IPython.core.display.Math object>"
      ]
     },
     "metadata": {},
     "output_type": "display_data"
    },
    {
     "data": {
      "text/latex": [
       "$\\displaystyle \\sigma_{yy} = 0$"
      ],
      "text/plain": [
       "<IPython.core.display.Math object>"
      ]
     },
     "metadata": {},
     "output_type": "display_data"
    },
    {
     "data": {
      "text/latex": [
       "$\\displaystyle \\sigma_{xy} = 0$"
      ],
      "text/plain": [
       "<IPython.core.display.Math object>"
      ]
     },
     "metadata": {},
     "output_type": "display_data"
    }
   ],
   "source": [
    "sigmaxx = sigma_xx(phi)\n",
    "sigmayy = sigma_yy(phi)\n",
    "sigmaxy = sigma_xy(phi)\n",
    "\n",
    "display(Math('\\sigma_{{xx}} = {}'.format(sp.latex(sigmaxx))))\n",
    "display(Math('\\sigma_{{yy}} = {}'.format(sp.latex(sigmayy))))\n",
    "display(Math('\\sigma_{{xy}} = {}'.format(sp.latex(sigmaxy))))"
   ]
  },
  {
   "cell_type": "code",
   "execution_count": 10,
   "metadata": {},
   "outputs": [
    {
     "data": {
      "text/latex": [
       "$\\displaystyle \\epsilon_{xx} = \\frac{T}{E}$"
      ],
      "text/plain": [
       "<IPython.core.display.Math object>"
      ]
     },
     "metadata": {},
     "output_type": "display_data"
    },
    {
     "data": {
      "text/latex": [
       "$\\displaystyle \\epsilon_{yy} = - \\frac{T \\nu}{E}$"
      ],
      "text/plain": [
       "<IPython.core.display.Math object>"
      ]
     },
     "metadata": {},
     "output_type": "display_data"
    },
    {
     "data": {
      "text/latex": [
       "$\\displaystyle \\epsilon_{xy} = 0$"
      ],
      "text/plain": [
       "<IPython.core.display.Math object>"
      ]
     },
     "metadata": {},
     "output_type": "display_data"
    }
   ],
   "source": [
    "epsilonxx = epsilon_xx(sigmaxx, sigmayy)\n",
    "epsilonyy = epsilon_yy(sigmayy, sigmaxx)\n",
    "epsilonxy = epsilon_xy(sigmaxy)\n",
    "\n",
    "display(Math('\\epsilon_{{xx}} = {}'.format(sp.latex(epsilonxx))))\n",
    "display(Math('\\epsilon_{{yy}} = {}'.format(sp.latex(epsilonyy))))\n",
    "display(Math('\\epsilon_{{xy}} = {}'.format(sp.latex(epsilonxy))))"
   ]
  },
  {
   "cell_type": "code",
   "execution_count": 11,
   "metadata": {},
   "outputs": [
    {
     "data": {
      "text/latex": [
       "$\\displaystyle u(x,y) = \\operatorname{f_{1}}{\\left(y \\right)} + \\frac{T x}{E}$"
      ],
      "text/plain": [
       "<IPython.core.display.Math object>"
      ]
     },
     "metadata": {},
     "output_type": "display_data"
    },
    {
     "data": {
      "text/latex": [
       "$\\displaystyle v(x,y) = \\operatorname{f_{2}}{\\left(x \\right)} - \\frac{T \\nu y}{E}$"
      ],
      "text/plain": [
       "<IPython.core.display.Math object>"
      ]
     },
     "metadata": {},
     "output_type": "display_data"
    }
   ],
   "source": [
    "u = sp.Function('u')(x,y)\n",
    "v = sp.Function('v')(x,y)\n",
    "f1= sp.Function('f1')(y)\n",
    "f2= sp.Function('f2')(x)\n",
    "\n",
    "u = sp.integrate(epsilonxx,x) + f1\n",
    "v = sp.integrate(epsilonyy,y) + f2\n",
    "\n",
    "display(Math('u(x,y) = {}'.format(sp.latex(u))))\n",
    "display(Math('v(x,y) = {}'.format(sp.latex(v))))"
   ]
  },
  {
   "cell_type": "code",
   "execution_count": 12,
   "metadata": {},
   "outputs": [
    {
     "data": {
      "text/latex": [
       "$\\displaystyle \\frac{d}{d y} \\operatorname{f_{1}}{\\left(y \\right)} + \\frac{d}{d x} \\operatorname{f_{2}}{\\left(x \\right)} = 0$"
      ],
      "text/plain": [
       "Eq(Derivative(f1(y), y) + Derivative(f2(x), x), 0)"
      ]
     },
     "metadata": {},
     "output_type": "display_data"
    }
   ],
   "source": [
    "lhs = sp.diff(u,y) + sp.diff(v,x)\n",
    "rhs = epsilonxy\n",
    "eq = sp.Eq(lhs,rhs)\n",
    "display(eq)"
   ]
  },
  {
   "cell_type": "code",
   "execution_count": 13,
   "metadata": {},
   "outputs": [
    {
     "data": {
      "text/latex": [
       "$\\displaystyle \\operatorname{f_{1}}{\\left(y \\right)} = - C y + C_{1}$"
      ],
      "text/plain": [
       "<IPython.core.display.Math object>"
      ]
     },
     "metadata": {},
     "output_type": "display_data"
    },
    {
     "data": {
      "text/latex": [
       "$\\displaystyle \\operatorname{f_{2}}{\\left(x \\right)} = C x + C_{1}$"
      ],
      "text/plain": [
       "<IPython.core.display.Math object>"
      ]
     },
     "metadata": {},
     "output_type": "display_data"
    }
   ],
   "source": [
    "C = sp.Symbol('C')\n",
    "\n",
    "eq1 = sp.Eq(sp.diff(f1,y),-C)\n",
    "f1_sol = sp.dsolve(eq1)\n",
    "display(Math('{}'.format(sp.latex(f1_sol))))\n",
    "\n",
    "eq2 = sp.Eq(sp.diff(f2,x),C)\n",
    "f2_sol = sp.dsolve(eq2)\n",
    "display(Math('{}'.format(sp.latex(f2_sol))))"
   ]
  },
  {
   "cell_type": "code",
   "execution_count": 14,
   "metadata": {},
   "outputs": [
    {
     "data": {
      "text/latex": [
       "$\\displaystyle u(x,y) = - C y + \\frac{T x}{E}$"
      ],
      "text/plain": [
       "<IPython.core.display.Math object>"
      ]
     },
     "metadata": {},
     "output_type": "display_data"
    },
    {
     "data": {
      "text/latex": [
       "$\\displaystyle v(x,y) = C x - \\frac{T \\nu y}{E}$"
      ],
      "text/plain": [
       "<IPython.core.display.Math object>"
      ]
     },
     "metadata": {},
     "output_type": "display_data"
    }
   ],
   "source": [
    "f1 = -C*y\n",
    "f2 = C*x\n",
    "\n",
    "u = sp.integrate(epsilonxx,x) + f1\n",
    "v = sp.integrate(epsilonyy,y) + f2\n",
    "\n",
    "display(Math('u(x,y) = {}'.format(sp.latex(u))))\n",
    "display(Math('v(x,y) = {}'.format(sp.latex(v))))"
   ]
  }
 ],
 "metadata": {
  "kernelspec": {
   "display_name": "Python 3",
   "language": "python",
   "name": "python3"
  },
  "language_info": {
   "codemirror_mode": {
    "name": "ipython",
    "version": 3
   },
   "file_extension": ".py",
   "mimetype": "text/x-python",
   "name": "python",
   "nbconvert_exporter": "python",
   "pygments_lexer": "ipython3",
   "version": "3.7.4"
  }
 },
 "nbformat": 4,
 "nbformat_minor": 2
}
