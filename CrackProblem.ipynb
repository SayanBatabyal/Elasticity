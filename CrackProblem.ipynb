{
 "cells": [
  {
   "cell_type": "markdown",
   "metadata": {},
   "source": [
    "# Notch and Crack Problem\n",
    "<img src=\"Notch_Crack_problem.png\">"
   ]
  },
  {
   "cell_type": "code",
   "execution_count": 1,
   "metadata": {},
   "outputs": [],
   "source": [
    "from polarUtilities import *\n",
    "from IPython.display import Math, Latex\n",
    "from mpl_toolkits.mplot3d import Axes3D\n",
    "import numpy as np\n",
    "import matplotlib.pyplot as plt"
   ]
  },
  {
   "cell_type": "code",
   "execution_count": 2,
   "metadata": {},
   "outputs": [],
   "source": [
    "f = sp.Function('f')(theta)\n",
    "l = sp.Symbol('lambda')"
   ]
  },
  {
   "cell_type": "markdown",
   "metadata": {},
   "source": [
    "For our simplicity we assume stresses to vary with $r^n$. Hence *Stress Function, $\\phi$* can be assumed to vary with $r^{n+2}$. Since constants do not affect the solution, we take $\\phi\\propto r^n$. Thus finally we choose $\\phi = r^\\lambda f(\\theta)$ where $\\lambda$ is any specific value of n satisfying the problem conditions."
   ]
  },
  {
   "cell_type": "code",
   "execution_count": 3,
   "metadata": {},
   "outputs": [
    {
     "data": {
      "text/latex": [
       "$\\displaystyle \\phi = r^{\\lambda} f{\\left(\\theta \\right)}$"
      ],
      "text/plain": [
       "<IPython.core.display.Math object>"
      ]
     },
     "metadata": {},
     "output_type": "display_data"
    }
   ],
   "source": [
    "phi = r**(l)*f\n",
    "display(Math(r'\\phi = {}'.format(sp.latex(phi))))"
   ]
  },
  {
   "cell_type": "markdown",
   "metadata": {},
   "source": [
    "Computing the polar Laplacian $\\nabla^2 \\phi$ according to our assumed $\\phi$-"
   ]
  },
  {
   "cell_type": "code",
   "execution_count": 4,
   "metadata": {},
   "outputs": [
    {
     "data": {
      "text/latex": [
       "$\\displaystyle r^{\\lambda - 2} \\left(\\lambda^{2} f{\\left(\\theta \\right)} + \\frac{d^{2}}{d \\theta^{2}} f{\\left(\\theta \\right)}\\right)$"
      ],
      "text/plain": [
       "r**(lambda - 2)*(lambda**2*f(theta) + Derivative(f(theta), (theta, 2)))"
      ]
     },
     "execution_count": 4,
     "metadata": {},
     "output_type": "execute_result"
    }
   ],
   "source": [
    "polarLaplacian(phi)"
   ]
  },
  {
   "cell_type": "markdown",
   "metadata": {},
   "source": [
    "The biharmonic equation is $\\nabla^4 \\phi = 0$. This is used to obtain the $\\theta$ dependent part of $\\phi$ i.e. $f(\\theta)$."
   ]
  },
  {
   "cell_type": "code",
   "execution_count": 5,
   "metadata": {},
   "outputs": [
    {
     "data": {
      "text/latex": [
       "$\\displaystyle r^{\\lambda - 4} \\left(\\lambda^{4} f{\\left(\\theta \\right)} - 4 \\lambda^{3} f{\\left(\\theta \\right)} + 4 \\lambda^{2} f{\\left(\\theta \\right)} + 2 \\lambda^{2} \\frac{d^{2}}{d \\theta^{2}} f{\\left(\\theta \\right)} - 4 \\lambda \\frac{d^{2}}{d \\theta^{2}} f{\\left(\\theta \\right)} + 4 \\frac{d^{2}}{d \\theta^{2}} f{\\left(\\theta \\right)} + \\frac{d^{4}}{d \\theta^{4}} f{\\left(\\theta \\right)}\\right) = 0$"
      ],
      "text/plain": [
       "Eq(r**(lambda - 4)*(lambda**4*f(theta) - 4*lambda**3*f(theta) + 4*lambda**2*f(theta) + 2*lambda**2*Derivative(f(theta), (theta, 2)) - 4*lambda*Derivative(f(theta), (theta, 2)) + 4*Derivative(f(theta), (theta, 2)) + Derivative(f(theta), (theta, 4))), 0)"
      ]
     },
     "metadata": {},
     "output_type": "display_data"
    }
   ],
   "source": [
    "lhs = polarbiharmonic(phi)\n",
    "rhs = 0\n",
    "biharmonic_eq = sp.Eq(lhs,rhs)\n",
    "display(biharmonic_eq.simplify())"
   ]
  },
  {
   "cell_type": "code",
   "execution_count": 6,
   "metadata": {},
   "outputs": [
    {
     "data": {
      "text/latex": [
       "$\\displaystyle f{\\left(\\theta \\right)} = C_{1} e^{- \\theta \\sqrt{- \\lambda^{2}}} + C_{2} e^{\\theta \\sqrt{- \\lambda^{2}}} + C_{3} e^{- \\theta \\sqrt{- \\lambda^{2} + 4 \\lambda - 4}} + C_{4} e^{\\theta \\sqrt{- \\lambda^{2} + 4 \\lambda - 4}}$"
      ],
      "text/plain": [
       "<IPython.core.display.Math object>"
      ]
     },
     "metadata": {},
     "output_type": "display_data"
    }
   ],
   "source": [
    "f_s = sp.dsolve(biharmonic_eq,f)\n",
    "display(Math(r'{}'.format(sp.latex(f_s))))"
   ]
  },
  {
   "cell_type": "markdown",
   "metadata": {},
   "source": [
    "We can obtain the simplified version of *Stress Function*, $\\phi$ from the results obtained above. In order to follow continuity with the book *Elasticity by Barber*, $\\phi$ is defined as below-"
   ]
  },
  {
   "cell_type": "code",
   "execution_count": 7,
   "metadata": {
    "scrolled": true
   },
   "outputs": [
    {
     "data": {
      "text/latex": [
       "$\\displaystyle \\phi = r^{\\lambda} \\left(A \\sin{\\left(\\lambda \\theta \\right)} + B \\cos{\\left(\\lambda \\theta \\right)} + C \\sin{\\left(\\theta \\left(\\lambda - 2\\right) \\right)} + D \\cos{\\left(\\theta \\left(\\lambda - 2\\right) \\right)}\\right)$"
      ],
      "text/plain": [
       "<IPython.core.display.Math object>"
      ]
     },
     "metadata": {},
     "output_type": "display_data"
    }
   ],
   "source": [
    "A, B, C, D = sp.symbols('A, B, C, D')\n",
    "phi = r**l*(A*sp.sin(l*theta) + B*sp.cos(l*theta) + C*sp.sin((l-2)*theta) + D*sp.cos((l-2)*theta))\n",
    "display(Math(r'\\phi = {}'.format(sp.latex(phi))))"
   ]
  },
  {
   "cell_type": "code",
   "execution_count": 8,
   "metadata": {},
   "outputs": [
    {
     "data": {
      "text/latex": [
       "$\\displaystyle  \\sigma_{rr} = r^{\\lambda - 2} \\left(- A \\lambda \\left(\\lambda - 1\\right) \\sin{\\left(\\lambda \\theta \\right)} - B \\lambda \\left(\\lambda - 1\\right) \\cos{\\left(\\lambda \\theta \\right)} + C \\left(- \\lambda^{2} + 5 \\lambda - 4\\right) \\sin{\\left(\\theta \\left(\\lambda - 2\\right) \\right)} - D \\left(\\lambda^{2} - 5 \\lambda + 4\\right) \\cos{\\left(\\theta \\left(\\lambda - 2\\right) \\right)}\\right)$"
      ],
      "text/plain": [
       "<IPython.core.display.Math object>"
      ]
     },
     "metadata": {},
     "output_type": "display_data"
    },
    {
     "data": {
      "text/latex": [
       "$\\displaystyle  \\sigma_{\\theta \\theta} = \\lambda r^{\\lambda - 2} \\left(A \\left(\\lambda - 1\\right) \\sin{\\left(\\lambda \\theta \\right)} + B \\left(\\lambda - 1\\right) \\cos{\\left(\\lambda \\theta \\right)} - C \\left(1 - \\lambda\\right) \\sin{\\left(\\theta \\left(\\lambda - 2\\right) \\right)} + D \\left(\\lambda - 1\\right) \\cos{\\left(\\theta \\left(\\lambda - 2\\right) \\right)}\\right)$"
      ],
      "text/plain": [
       "<IPython.core.display.Math object>"
      ]
     },
     "metadata": {},
     "output_type": "display_data"
    },
    {
     "data": {
      "text/latex": [
       "$\\displaystyle  \\sigma_{r\\theta} = r^{\\lambda - 2} \\left(- A \\lambda \\left(\\lambda - 1\\right) \\cos{\\left(\\lambda \\theta \\right)} + B \\lambda \\left(\\lambda - 1\\right) \\sin{\\left(\\lambda \\theta \\right)} - C \\left(\\lambda^{2} - 3 \\lambda + 2\\right) \\cos{\\left(\\theta \\left(\\lambda - 2\\right) \\right)} - D \\left(- \\lambda^{2} + 3 \\lambda - 2\\right) \\sin{\\left(\\theta \\left(\\lambda - 2\\right) \\right)}\\right)$"
      ],
      "text/plain": [
       "<IPython.core.display.Math object>"
      ]
     },
     "metadata": {},
     "output_type": "display_data"
    }
   ],
   "source": [
    "sigmarr = sp.collect(sigma_rr(phi),(A,B,C,D)).simplify()\n",
    "sigmatt = sp.collect(sigma_tt(phi),(A,B,C,D)).simplify()\n",
    "sigmart = sp.collect(sigma_rt(phi),(A,B,C,D)).simplify()\n",
    "\n",
    "display(Math(r' \\sigma_{{rr}} = {}'.format(sp.latex(sigmarr))))\n",
    "display(Math(r' \\sigma_{{\\theta \\theta}} = {}'.format(sp.latex(sigmatt))))\n",
    "display(Math(r' \\sigma_{{r\\theta}} = {}'.format(sp.latex(sigmart))))"
   ]
  },
  {
   "cell_type": "markdown",
   "metadata": {},
   "source": [
    "We set Stress-Free boundary conditions around the crack region. As a result $\\sigma_{\\theta \\theta} = \\sigma_{r \\theta} = 0$ at $\\theta = 0$ and $\\theta=2\\pi$."
   ]
  },
  {
   "cell_type": "code",
   "execution_count": 9,
   "metadata": {},
   "outputs": [
    {
     "data": {
      "text/latex": [
       "$\\displaystyle  A = - C + \\frac{2 C}{\\lambda}$"
      ],
      "text/plain": [
       "<IPython.core.display.Math object>"
      ]
     },
     "metadata": {},
     "output_type": "display_data"
    },
    {
     "data": {
      "text/latex": [
       "$\\displaystyle  B = - D$"
      ],
      "text/plain": [
       "<IPython.core.display.Math object>"
      ]
     },
     "metadata": {},
     "output_type": "display_data"
    }
   ],
   "source": [
    "lhs1 = sigmatt.subs(theta,0)\n",
    "rhs1 = 0\n",
    "eq1 = sp.Eq(lhs1,rhs1)\n",
    "\n",
    "lhs2 = sigmart.subs(theta,0)\n",
    "rhs2 = 0\n",
    "eq2 = sp.Eq(lhs2,rhs2)\n",
    "\n",
    "sol, = sp.linsolve([eq1, eq2],[A,B])\n",
    "A_sol = sol[0]\n",
    "B_sol = sol[1]\n",
    "\n",
    "display(Math(r' A = {}'.format(sp.latex(A_sol))))\n",
    "display(Math(r' B = {}'.format(sp.latex(B_sol))))"
   ]
  },
  {
   "cell_type": "code",
   "execution_count": 10,
   "metadata": {},
   "outputs": [
    {
     "data": {
      "text/latex": [
       "$\\displaystyle \\lambda r^{\\lambda - 2} \\left(C \\left(\\left(-1 + \\frac{2}{\\lambda}\\right) \\left(\\lambda - 1\\right) \\sin{\\left(2 \\pi \\lambda \\right)} - \\left(1 - \\lambda\\right) \\sin{\\left(\\pi \\left(2 \\lambda - 4\\right) \\right)}\\right) + D \\left(- \\left(\\lambda - 1\\right) \\cos{\\left(2 \\pi \\lambda \\right)} + \\left(\\lambda - 1\\right) \\cos{\\left(\\pi \\left(2 \\lambda - 4\\right) \\right)}\\right)\\right) = 0$"
      ],
      "text/plain": [
       "Eq(lambda*r**(lambda - 2)*(C*((-1 + 2/lambda)*(lambda - 1)*sin(2*pi*lambda) - (1 - lambda)*sin(pi*(2*lambda - 4))) + D*(-(lambda - 1)*cos(2*pi*lambda) + (lambda - 1)*cos(pi*(2*lambda - 4)))), 0)"
      ]
     },
     "metadata": {},
     "output_type": "display_data"
    },
    {
     "data": {
      "text/latex": [
       "$\\displaystyle r^{\\lambda - 2} \\left(C \\left(- \\lambda \\left(-1 + \\frac{2}{\\lambda}\\right) \\left(\\lambda - 1\\right) \\cos{\\left(2 \\pi \\lambda \\right)} - \\left(\\lambda^{2} - 3 \\lambda + 2\\right) \\cos{\\left(\\pi \\left(2 \\lambda - 4\\right) \\right)}\\right) + D \\left(- \\lambda \\left(\\lambda - 1\\right) \\sin{\\left(2 \\pi \\lambda \\right)} - \\left(- \\lambda^{2} + 3 \\lambda - 2\\right) \\sin{\\left(\\pi \\left(2 \\lambda - 4\\right) \\right)}\\right)\\right) = 0$"
      ],
      "text/plain": [
       "Eq(r**(lambda - 2)*(C*(-lambda*(-1 + 2/lambda)*(lambda - 1)*cos(2*pi*lambda) - (lambda**2 - 3*lambda + 2)*cos(pi*(2*lambda - 4))) + D*(-lambda*(lambda - 1)*sin(2*pi*lambda) - (-lambda**2 + 3*lambda - 2)*sin(pi*(2*lambda - 4)))), 0)"
      ]
     },
     "metadata": {},
     "output_type": "display_data"
    }
   ],
   "source": [
    "lhs3 = sigmatt.subs(theta,2*sp.pi).subs(A,A_sol).subs(B,B_sol).collect(C).collect(D)\n",
    "rhs3 = 0\n",
    "eq3 = sp.Eq(lhs3,rhs3)\n",
    "display(eq3)\n",
    "\n",
    "lhs4 = sigmart.subs(theta,2*sp.pi).subs(A,A_sol).subs(B,B_sol).collect(C).collect(D)\n",
    "rhs4 = 0\n",
    "eq4 = sp.Eq(lhs4,rhs4)\n",
    "display(eq4)"
   ]
  },
  {
   "cell_type": "code",
   "execution_count": 11,
   "metadata": {},
   "outputs": [
    {
     "data": {
      "text/latex": [
       "$\\displaystyle r^{2 \\lambda - 4} \\left(- 4 \\lambda^{2} + 8 \\lambda - 4\\right) \\sin^{2}{\\left(2 \\pi \\lambda \\right)} = 0$"
      ],
      "text/plain": [
       "Eq(r**(2*lambda - 4)*(-4*lambda**2 + 8*lambda - 4)*sin(2*pi*lambda)**2, 0)"
      ]
     },
     "metadata": {},
     "output_type": "display_data"
    }
   ],
   "source": [
    "lhs_mat, rhs_mat = sp.linear_eq_to_matrix([eq3, eq4], [C, D])\n",
    "det = lhs_mat.det().simplify()\n",
    "eq = sp.Eq(det,0)\n",
    "display(eq)"
   ]
  },
  {
   "cell_type": "markdown",
   "metadata": {},
   "source": [
    "Thus we obtain a condition $sin(2\\pi\\lambda)=0$. Simplifying, we get $\\lambda=\\frac{n}{2}$ where n is some integer. However keeping several factors in mind, we have to set $\\lambda=\\frac{3}{2}$."
   ]
  },
  {
   "cell_type": "code",
   "execution_count": 12,
   "metadata": {
    "scrolled": true
   },
   "outputs": [
    {
     "data": {
      "text/latex": [
       "$\\displaystyle \\phi_{crack} = r^{1.5} \\left(A \\sin{\\left(1.5 \\theta \\right)} + B \\cos{\\left(1.5 \\theta \\right)} - C \\sin{\\left(0.5 \\theta \\right)} + D \\cos{\\left(0.5 \\theta \\right)}\\right)$"
      ],
      "text/plain": [
       "<IPython.core.display.Math object>"
      ]
     },
     "metadata": {},
     "output_type": "display_data"
    },
    {
     "data": {
      "text/latex": [
       "$\\displaystyle  \\sigma_{rr} = \\frac{A \\left(- 3.75 \\sin{\\left(0.5 \\theta \\right)} - 0.75 \\sin{\\left(1.5 \\theta \\right)}\\right) + B \\left(- 1.25 \\cos{\\left(0.5 \\theta \\right)} - 0.75 \\cos{\\left(1.5 \\theta \\right)}\\right)}{r^{0.5}}$"
      ],
      "text/plain": [
       "<IPython.core.display.Math object>"
      ]
     },
     "metadata": {},
     "output_type": "display_data"
    },
    {
     "data": {
      "text/latex": [
       "$\\displaystyle  \\sigma_{\\theta \\theta} = \\frac{1.5 \\left(A \\left(- 1.5 \\sin{\\left(0.5 \\theta \\right)} + 0.5 \\sin{\\left(1.5 \\theta \\right)}\\right) + B \\left(- 0.5 \\cos{\\left(0.5 \\theta \\right)} + 0.5 \\cos{\\left(1.5 \\theta \\right)}\\right)\\right)}{r^{0.5}}$"
      ],
      "text/plain": [
       "<IPython.core.display.Math object>"
      ]
     },
     "metadata": {},
     "output_type": "display_data"
    },
    {
     "data": {
      "text/latex": [
       "$\\displaystyle  \\sigma_{r\\theta} = \\frac{A \\left(0.75 \\cos{\\left(0.5 \\theta \\right)} - 0.75 \\cos{\\left(1.5 \\theta \\right)}\\right) + B \\left(- 0.25 \\sin{\\left(0.5 \\theta \\right)} + 0.75 \\sin{\\left(1.5 \\theta \\right)}\\right)}{r^{0.5}}$"
      ],
      "text/plain": [
       "<IPython.core.display.Math object>"
      ]
     },
     "metadata": {},
     "output_type": "display_data"
    }
   ],
   "source": [
    "phi_crack = phi.subs(l,3/2)\n",
    "display(Math(r'\\phi_{{crack}} = {}'.format(sp.latex(phi_crack))))\n",
    "\n",
    "sol, = sp.linsolve([eq1, eq2],[C,D])\n",
    "C_sol = sol[0]\n",
    "D_sol = sol[1]\n",
    "\n",
    "sigma_rr_crack = sigmarr.subs(C,C_sol).subs(D,D_sol).subs(l,3/2).collect(A).collect(B)\n",
    "sigma_tt_crack = sigmatt.subs(C,C_sol).subs(D,D_sol).subs(l,3/2).collect(A).collect(B)\n",
    "sigma_rt_crack = sigmart.subs(C,C_sol).subs(D,D_sol).subs(l,3/2).collect(A).collect(B)\n",
    "\n",
    "display(Math(r' \\sigma_{{rr}} = {}'.format(sp.latex(sigma_rr_crack))))\n",
    "display(Math(r' \\sigma_{{\\theta \\theta}} = {}'.format(sp.latex(sigma_tt_crack))))\n",
    "display(Math(r' \\sigma_{{r\\theta}} = {}'.format(sp.latex(sigma_rt_crack))))"
   ]
  },
  {
   "cell_type": "markdown",
   "metadata": {},
   "source": [
    "Sometimes it is convenient to express the stresses in terms of the angle $\\upsilon$ measured from direction of crack propagation, instead of $\\theta$."
   ]
  },
  {
   "cell_type": "code",
   "execution_count": 13,
   "metadata": {},
   "outputs": [
    {
     "data": {
      "text/latex": [
       "$\\displaystyle  \\sigma_{rr} = \\frac{- A \\left(3.75 \\sin{\\left(0.5 \\Upsilon \\right)} + 0.75 \\sin{\\left(1.5 \\Upsilon \\right)}\\right) + B \\left(1.25 \\cos{\\left(0.5 \\Upsilon \\right)} + 0.75 \\cos{\\left(1.5 \\Upsilon \\right)}\\right)}{r^{0.5}}$"
      ],
      "text/plain": [
       "<IPython.core.display.Math object>"
      ]
     },
     "metadata": {},
     "output_type": "display_data"
    },
    {
     "data": {
      "text/latex": [
       "$\\displaystyle  \\sigma_{\\theta \\theta} = \\frac{1.5 A \\left(- 1.5 \\sin{\\left(0.5 \\Upsilon \\right)} + 0.5 \\sin{\\left(1.5 \\Upsilon \\right)}\\right) - 0.75 B \\left(- \\cos{\\left(0.5 \\Upsilon \\right)} + \\cos{\\left(1.5 \\Upsilon \\right)}\\right)}{r^{0.5}}$"
      ],
      "text/plain": [
       "<IPython.core.display.Math object>"
      ]
     },
     "metadata": {},
     "output_type": "display_data"
    },
    {
     "data": {
      "text/latex": [
       "$\\displaystyle  \\sigma_{r\\theta} = \\frac{0.75 A \\left(- \\cos{\\left(0.5 \\Upsilon \\right)} + \\cos{\\left(1.5 \\Upsilon \\right)}\\right) + B \\left(- 0.25 \\sin{\\left(0.5 \\Upsilon \\right)} + 0.75 \\sin{\\left(1.5 \\Upsilon \\right)}\\right)}{r^{0.5}}$"
      ],
      "text/plain": [
       "<IPython.core.display.Math object>"
      ]
     },
     "metadata": {},
     "output_type": "display_data"
    }
   ],
   "source": [
    "v = sp.Symbol('Upsilon')\n",
    "\n",
    "sigma_rr_crack = sigma_rr_crack.subs(theta,2*sp.pi-v).simplify()\n",
    "sigma_tt_crack = sigma_tt_crack.subs(theta,2*sp.pi-v).simplify()\n",
    "sigma_rt_crack = sigma_rt_crack.subs(theta,2*sp.pi-v).simplify()\n",
    "\n",
    "display(Math(r' \\sigma_{{rr}} = {}'.format(sp.latex(sigma_rr_crack))))\n",
    "display(Math(r' \\sigma_{{\\theta \\theta}} = {}'.format(sp.latex(sigma_tt_crack))))\n",
    "display(Math(r' \\sigma_{{r\\theta}} = {}'.format(sp.latex(sigma_rt_crack))))"
   ]
  },
  {
   "cell_type": "markdown",
   "metadata": {},
   "source": [
    "Clearly we see 2 kinds of terms appearing in the stresses. The terms with *A* are symmetric in nature, while terms with *B* are anti-symmetric in nature. The symmetric terms are normally called as *opening* or *mode-I* crack, while the anti-symmetric terms are called as *shearing* or *mode-II* crack. We will study about them individually under the sections below."
   ]
  },
  {
   "cell_type": "markdown",
   "metadata": {},
   "source": [
    "### For *Mode-I* crack -"
   ]
  },
  {
   "cell_type": "code",
   "execution_count": 14,
   "metadata": {
    "scrolled": true
   },
   "outputs": [
    {
     "data": {
      "text/latex": [
       "$\\displaystyle  \\sigma_{rr} = - \\frac{A \\left(3.75 \\sin{\\left(0.5 \\Upsilon \\right)} + 0.75 \\sin{\\left(1.5 \\Upsilon \\right)}\\right)}{r^{0.5}}$"
      ],
      "text/plain": [
       "<IPython.core.display.Math object>"
      ]
     },
     "metadata": {},
     "output_type": "display_data"
    },
    {
     "data": {
      "text/latex": [
       "$\\displaystyle  \\sigma_{\\theta \\theta} = \\frac{1.5 A \\left(- 1.5 \\sin{\\left(0.5 \\Upsilon \\right)} + 0.5 \\sin{\\left(1.5 \\Upsilon \\right)}\\right)}{r^{0.5}}$"
      ],
      "text/plain": [
       "<IPython.core.display.Math object>"
      ]
     },
     "metadata": {},
     "output_type": "display_data"
    },
    {
     "data": {
      "text/latex": [
       "$\\displaystyle  \\sigma_{r\\theta} = \\frac{0.75 A \\left(- \\cos{\\left(0.5 \\Upsilon \\right)} + \\cos{\\left(1.5 \\Upsilon \\right)}\\right)}{r^{0.5}}$"
      ],
      "text/plain": [
       "<IPython.core.display.Math object>"
      ]
     },
     "metadata": {},
     "output_type": "display_data"
    }
   ],
   "source": [
    "sigma_rr_crack_I = sigma_rr_crack.subs(B,0)\n",
    "sigma_tt_crack_I = sigma_tt_crack.subs(B,0)\n",
    "sigma_rt_crack_I = sigma_rt_crack.subs(B,0)\n",
    "\n",
    "display(Math(r' \\sigma_{{rr}} = {}'.format(sp.latex(sigma_rr_crack_I))))\n",
    "display(Math(r' \\sigma_{{\\theta \\theta}} = {}'.format(sp.latex(sigma_tt_crack_I))))\n",
    "display(Math(r' \\sigma_{{r\\theta}} = {}'.format(sp.latex(sigma_rt_crack_I))))"
   ]
  },
  {
   "cell_type": "code",
   "execution_count": 15,
   "metadata": {},
   "outputs": [
    {
     "data": {
      "image/png": "[encoded data removed]",
      "text/plain": [
       "<Figure size 432x288 with 2 Axes>"
      ]
     },
     "metadata": {
      "needs_background": "light"
     },
     "output_type": "display_data"
    }
   ],
   "source": [
    "rbar = np.linspace(1, 10, 100)\n",
    "tbar = np.linspace(-np.pi/2, np.pi/2, 100)\n",
    "R, T = np.meshgrid(rbar, tbar)\n",
    "\n",
    "sigmarr_num = -(3/2)*(1/R**0.5)*np.cos(T/2)*(3-np.cos(T))\n",
    "sigmatt_num = -(3/2)*(1/R**0.5)*np.cos(T/2)*(1+np.cos(T))\n",
    "sigmart_num =  (3/2)*(1/R**0.5)*np.sin(T/2)*(1+np.cos(T))\n",
    "\n",
    "X, Y = R*np.cos(T), R*np.sin(T)\n",
    "\n",
    "fig11,ax11 = plt.subplots(1,1)\n",
    "cp= ax11.contourf(X,Y,sigmarr_num)\n",
    "fig11.colorbar(cp)\n",
    "ax11.set_title('$\\sigma_{rr}$/A in mode-I')\n",
    "ax11.set_xlabel('x')\n",
    "ax11.set_ylabel('y')\n",
    "plt.show()"
   ]
  },
  {
   "cell_type": "code",
   "execution_count": 16,
   "metadata": {},
   "outputs": [
    {
     "data": {
      "image/png": "[encoded data removed]",
      "text/plain": [
       "<Figure size 432x288 with 2 Axes>"
      ]
     },
     "metadata": {
      "needs_background": "light"
     },
     "output_type": "display_data"
    }
   ],
   "source": [
    "fig12,ax12 = plt.subplots(1,1)\n",
    "cp= ax12.contourf(X,Y,sigmatt_num)\n",
    "fig12.colorbar(cp)\n",
    "ax12.set_title('$\\sigma_{tt}$/A in mode-I')\n",
    "ax12.set_xlabel('x')\n",
    "ax12.set_ylabel('y')\n",
    "plt.show()"
   ]
  },
  {
   "cell_type": "code",
   "execution_count": 17,
   "metadata": {},
   "outputs": [
    {
     "data": {
      "image/png": "[encoded data removed]",
      "text/plain": [
       "<Figure size 432x288 with 2 Axes>"
      ]
     },
     "metadata": {
      "needs_background": "light"
     },
     "output_type": "display_data"
    }
   ],
   "source": [
    "fig13,ax13 = plt.subplots(1,1)\n",
    "cp= ax13.contourf(X,Y,sigmart_num)\n",
    "fig13.colorbar(cp)\n",
    "ax13.set_title('$\\sigma_{rt}$/A in mode-I')\n",
    "ax13.set_xlabel('x')\n",
    "ax13.set_ylabel('y')\n",
    "plt.show()"
   ]
  },
  {
   "cell_type": "markdown",
   "metadata": {},
   "source": [
    "### For *Mode-II* crack -"
   ]
  },
  {
   "cell_type": "code",
   "execution_count": 18,
   "metadata": {},
   "outputs": [
    {
     "data": {
      "text/latex": [
       "$\\displaystyle  \\sigma_{rr} = \\frac{B \\left(1.25 \\cos{\\left(0.5 \\Upsilon \\right)} + 0.75 \\cos{\\left(1.5 \\Upsilon \\right)}\\right)}{r^{0.5}}$"
      ],
      "text/plain": [
       "<IPython.core.display.Math object>"
      ]
     },
     "metadata": {},
     "output_type": "display_data"
    },
    {
     "data": {
      "text/latex": [
       "$\\displaystyle  \\sigma_{\\theta \\theta} = - \\frac{0.75 B \\left(- \\cos{\\left(0.5 \\Upsilon \\right)} + \\cos{\\left(1.5 \\Upsilon \\right)}\\right)}{r^{0.5}}$"
      ],
      "text/plain": [
       "<IPython.core.display.Math object>"
      ]
     },
     "metadata": {},
     "output_type": "display_data"
    },
    {
     "data": {
      "text/latex": [
       "$\\displaystyle  \\sigma_{r\\theta} = \\frac{B \\left(- 0.25 \\sin{\\left(0.5 \\Upsilon \\right)} + 0.75 \\sin{\\left(1.5 \\Upsilon \\right)}\\right)}{r^{0.5}}$"
      ],
      "text/plain": [
       "<IPython.core.display.Math object>"
      ]
     },
     "metadata": {},
     "output_type": "display_data"
    }
   ],
   "source": [
    "sigma_rr_crack_II = sigma_rr_crack.subs(A,0)\n",
    "sigma_tt_crack_II = sigma_tt_crack.subs(A,0)\n",
    "sigma_rt_crack_II = sigma_rt_crack.subs(A,0)\n",
    "\n",
    "display(Math(r' \\sigma_{{rr}} = {}'.format(sp.latex(sigma_rr_crack_II))))\n",
    "display(Math(r' \\sigma_{{\\theta \\theta}} = {}'.format(sp.latex(sigma_tt_crack_II))))\n",
    "display(Math(r' \\sigma_{{r\\theta}} = {}'.format(sp.latex(sigma_rt_crack_II))))"
   ]
  },
  {
   "cell_type": "code",
   "execution_count": 19,
   "metadata": {},
   "outputs": [
    {
     "data": {
      "image/png": "[encoded data removed]",
      "text/plain": [
       "<Figure size 432x288 with 2 Axes>"
      ]
     },
     "metadata": {
      "needs_background": "light"
     },
     "output_type": "display_data"
    }
   ],
   "source": [
    "sigmarr_num = -(1/2)*(1/R**0.5)*np.sin(T/2)*(1-3*np.cos(T))\n",
    "sigmatt_num = -(3/2)*(1/R**0.5)*np.cos(T/2)*(1+np.cos(T))\n",
    "sigmart_num =  (1/2)*(1/R**0.5)*np.cos(T/2)*(1-3*np.cos(T))\n",
    "\n",
    "X, Y = R*np.cos(T), R*np.sin(T)\n",
    "\n",
    "fig21,ax21 = plt.subplots(1,1)\n",
    "cp= ax21.contourf(X,Y,sigmarr_num)\n",
    "fig21.colorbar(cp)\n",
    "ax21.set_title('$\\sigma_{rr}$/A in mode-II')\n",
    "ax21.set_xlabel('x')\n",
    "ax21.set_ylabel('y')\n",
    "plt.show()"
   ]
  },
  {
   "cell_type": "code",
   "execution_count": 20,
   "metadata": {},
   "outputs": [
    {
     "data": {
      "image/png": "[encoded data removed]",
      "text/plain": [
       "<Figure size 432x288 with 2 Axes>"
      ]
     },
     "metadata": {
      "needs_background": "light"
     },
     "output_type": "display_data"
    }
   ],
   "source": [
    "fig22,ax22 = plt.subplots(1,1)\n",
    "cp= ax22.contourf(X,Y,sigmatt_num)\n",
    "fig22.colorbar(cp)\n",
    "ax22.set_title('$\\sigma_{tt}$/A in mode-II')\n",
    "ax22.set_xlabel('x')\n",
    "ax22.set_ylabel('y')\n",
    "plt.show()"
   ]
  },
  {
   "cell_type": "code",
   "execution_count": 21,
   "metadata": {},
   "outputs": [
    {
     "data": {
      "image/png": "[encoded data removed]",
      "text/plain": [
       "<Figure size 432x288 with 2 Axes>"
      ]
     },
     "metadata": {
      "needs_background": "light"
     },
     "output_type": "display_data"
    }
   ],
   "source": [
    "fig23,ax23 = plt.subplots(1,1)\n",
    "cp= ax23.contourf(X,Y,sigmart_num)\n",
    "fig23.colorbar(cp)\n",
    "ax23.set_title('$\\sigma_{rt}$/A in mode-II')\n",
    "ax23.set_xlabel('x')\n",
    "ax23.set_ylabel('y')\n",
    "plt.show()"
   ]
  },
  {
   "cell_type": "markdown",
   "metadata": {},
   "source": [
    "We will now generate the strains for each mode from the stresses obained.\n",
    "## Strains for Mode-I type crack-"
   ]
  },
  {
   "cell_type": "code",
   "execution_count": 25,
   "metadata": {},
   "outputs": [
    {
     "data": {
      "text/latex": [
       "$\\displaystyle \\epsilon_{rr} = \\frac{A \\left(\\nu \\left(2.25 \\sin{\\left(0.5 \\Upsilon \\right)} - 0.75 \\sin{\\left(1.5 \\Upsilon \\right)}\\right) - 3.75 \\sin{\\left(0.5 \\Upsilon \\right)} - 0.75 \\sin{\\left(1.5 \\Upsilon \\right)}\\right)}{E r^{0.5}}$"
      ],
      "text/plain": [
       "<IPython.core.display.Math object>"
      ]
     },
     "metadata": {},
     "output_type": "display_data"
    },
    {
     "data": {
      "text/latex": [
       "$\\displaystyle \\epsilon_{\\theta \\theta} = \\frac{A \\left(\\nu \\left(3.75 \\sin{\\left(0.5 \\Upsilon \\right)} + 0.75 \\sin{\\left(1.5 \\Upsilon \\right)}\\right) - 2.25 \\sin{\\left(0.5 \\Upsilon \\right)} + 0.75 \\sin{\\left(1.5 \\Upsilon \\right)}\\right)}{E r^{0.5}}$"
      ],
      "text/plain": [
       "<IPython.core.display.Math object>"
      ]
     },
     "metadata": {},
     "output_type": "display_data"
    },
    {
     "data": {
      "text/latex": [
       "$\\displaystyle \\epsilon_{r\\theta} = - \\frac{0.75 A \\left(\\nu + 1\\right) \\left(\\cos{\\left(0.5 \\Upsilon \\right)} - \\cos{\\left(1.5 \\Upsilon \\right)}\\right)}{E r^{0.5}}$"
      ],
      "text/plain": [
       "<IPython.core.display.Math object>"
      ]
     },
     "metadata": {},
     "output_type": "display_data"
    }
   ],
   "source": [
    "epsilonrr_I = epsilon_rr(sigma_rr_crack_I,sigma_tt_crack_I).collect(nu)\n",
    "epsilontt_I = epsilon_tt(sigma_tt_crack_I,sigma_rr_crack_I).collect(nu)\n",
    "epsilonrt_I = epsilon_rt(sigma_rt_crack_I)\n",
    "\n",
    "display(Math(r'\\epsilon_{{rr}} = {}'.format(sp.latex(epsilonrr_I))))\n",
    "display(Math(r'\\epsilon_{{\\theta \\theta}} = {}'.format(sp.latex(epsilontt_I))))\n",
    "display(Math(r'\\epsilon_{{r\\theta}} = {}'.format(sp.latex(epsilonrt_I))))"
   ]
  },
  {
   "cell_type": "markdown",
   "metadata": {},
   "source": [
    "## Strains for Mode-II type crack-"
   ]
  },
  {
   "cell_type": "code",
   "execution_count": 26,
   "metadata": {},
   "outputs": [
    {
     "data": {
      "text/latex": [
       "$\\displaystyle \\epsilon_{rr} = \\frac{B \\left(\\nu \\left(- 0.75 \\cos{\\left(0.5 \\Upsilon \\right)} + 0.75 \\cos{\\left(1.5 \\Upsilon \\right)}\\right) + 1.25 \\cos{\\left(0.5 \\Upsilon \\right)} + 0.75 \\cos{\\left(1.5 \\Upsilon \\right)}\\right)}{E r^{0.5}}$"
      ],
      "text/plain": [
       "<IPython.core.display.Math object>"
      ]
     },
     "metadata": {},
     "output_type": "display_data"
    },
    {
     "data": {
      "text/latex": [
       "$\\displaystyle \\epsilon_{\\theta \\theta} = \\frac{B \\left(\\nu \\left(- 1.25 \\cos{\\left(0.5 \\Upsilon \\right)} - 0.75 \\cos{\\left(1.5 \\Upsilon \\right)}\\right) + 0.75 \\cos{\\left(0.5 \\Upsilon \\right)} - 0.75 \\cos{\\left(1.5 \\Upsilon \\right)}\\right)}{E r^{0.5}}$"
      ],
      "text/plain": [
       "<IPython.core.display.Math object>"
      ]
     },
     "metadata": {},
     "output_type": "display_data"
    },
    {
     "data": {
      "text/latex": [
       "$\\displaystyle \\epsilon_{r\\theta} = - \\frac{B \\left(\\nu + 1\\right) \\left(0.25 \\sin{\\left(0.5 \\Upsilon \\right)} - 0.75 \\sin{\\left(1.5 \\Upsilon \\right)}\\right)}{E r^{0.5}}$"
      ],
      "text/plain": [
       "<IPython.core.display.Math object>"
      ]
     },
     "metadata": {},
     "output_type": "display_data"
    }
   ],
   "source": [
    "epsilonrr_II = epsilon_rr(sigma_rr_crack_II,sigma_tt_crack_II).collect(nu)\n",
    "epsilontt_II = epsilon_tt(sigma_tt_crack_II,sigma_rr_crack_II).collect(nu)\n",
    "epsilonrt_II = epsilon_rt(sigma_rt_crack_II)\n",
    "\n",
    "display(Math(r'\\epsilon_{{rr}} = {}'.format(sp.latex(epsilonrr_II))))\n",
    "display(Math(r'\\epsilon_{{\\theta \\theta}} = {}'.format(sp.latex(epsilontt_II))))\n",
    "display(Math(r'\\epsilon_{{r\\theta}} = {}'.format(sp.latex(epsilonrt_II))))"
   ]
  }
 ],
 "metadata": {
  "kernelspec": {
   "display_name": "Python 3",
   "language": "python",
   "name": "python3"
  },
  "language_info": {
   "codemirror_mode": {
    "name": "ipython",
    "version": 3
   },
   "file_extension": ".py",
   "mimetype": "text/x-python",
   "name": "python",
   "nbconvert_exporter": "python",
   "pygments_lexer": "ipython3",
   "version": "3.7.4"
  }
 },
 "nbformat": 4,
 "nbformat_minor": 2
}
