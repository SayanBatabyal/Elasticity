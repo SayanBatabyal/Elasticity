{
 "cells": [
  {
   "cell_type": "markdown",
   "metadata": {},
   "source": [
    "# Pure bending of a beam"
   ]
  },
  {
   "cell_type": "code",
   "execution_count": 1,
   "metadata": {},
   "outputs": [],
   "source": [
    "from cartesianUtilities import *\n",
    "from IPython.display import Math, Latex"
   ]
  },
  {
   "cell_type": "code",
   "execution_count": 2,
   "metadata": {},
   "outputs": [],
   "source": [
    "A10, A20, A30, A11, A01, A02, A03, A12, A21, A00 = sp.symbols('A10, A20, A30, A11, A01, A02, A03, A12, A21, A00')\n",
    "M = sp.Symbol('M')\n",
    "c = sp.Symbol('c')"
   ]
  },
  {
   "cell_type": "markdown",
   "metadata": {},
   "source": [
    "According to the problem, we want the stress field $\\sigma_{xx}$ to vary with y only. We know in a pure bending problem, $\\sigma_{xx} = \\frac{M_z}{I_{zz}}y$."
   ]
  },
  {
   "cell_type": "code",
   "execution_count": 3,
   "metadata": {},
   "outputs": [
    {
     "data": {
      "text/latex": [
       "$\\displaystyle \\phi(x,y) = A_{00} + A_{01} y + A_{02} y^{2} + A_{03} y^{3} + A_{10} x + A_{11} x y + A_{12} x y^{2} + A_{20} x^{2} + A_{21} x^{2} y + A_{30} x^{3}$"
      ],
      "text/plain": [
       "<IPython.core.display.Math object>"
      ]
     },
     "metadata": {},
     "output_type": "display_data"
    }
   ],
   "source": [
    "phi = A10*x + A20*x**2 + A30*x**3 + A11*x*y + A01*y + A02*y**2 + A03*y**3 + A12*x*y**2 + A21*x**2*y + A00\n",
    "display(Math('\\phi(x,y) = {}'.format(sp.latex(phi))))"
   ]
  },
  {
   "cell_type": "code",
   "execution_count": 4,
   "metadata": {},
   "outputs": [
    {
     "data": {
      "text/latex": [
       "$\\displaystyle \\sigma_{xx} = 2 A_{02} + 6 A_{03} y + 2 A_{12} x$"
      ],
      "text/plain": [
       "<IPython.core.display.Math object>"
      ]
     },
     "metadata": {},
     "output_type": "display_data"
    },
    {
     "data": {
      "text/latex": [
       "$\\displaystyle \\sigma_{yy} = 2 A_{20} + 2 A_{21} y + 6 A_{30} x$"
      ],
      "text/plain": [
       "<IPython.core.display.Math object>"
      ]
     },
     "metadata": {},
     "output_type": "display_data"
    },
    {
     "data": {
      "text/latex": [
       "$\\displaystyle \\sigma_{xy} = A_{11} + 2 A_{12} y + 2 A_{21} x$"
      ],
      "text/plain": [
       "<IPython.core.display.Math object>"
      ]
     },
     "metadata": {},
     "output_type": "display_data"
    }
   ],
   "source": [
    "sigmaxx = sigma_xx(phi)\n",
    "sigmayy = sigma_yy(phi)\n",
    "sigmaxy = sigma_xy(phi)\n",
    "\n",
    "display(Math('\\sigma_{{xx}} = {}'.format(sp.latex(sigmaxx))))\n",
    "display(Math('\\sigma_{{yy}} = {}'.format(sp.latex(sigmayy))))\n",
    "display(Math('\\sigma_{{xy}} = {}'.format(sp.latex(sigmaxy))))"
   ]
  },
  {
   "cell_type": "markdown",
   "metadata": {},
   "source": [
    "We list all terms that we want to be zero.\n",
    "1. $\\sigma_{xx} \\propto y$, so $A_{02}, A_{12} = 0$.\n",
    "2. $\\sigma_{yy} = 0$, so $A_{20}, A_{21}, A_{30} = 0$.\n",
    "3. $\\sigma_{xy} = 0$, so $A_{11}, A_{12}, A_{21} = 0$.\n",
    "\n",
    "All other terms not appearing in the list can be made 0, to reduce calculation."
   ]
  },
  {
   "cell_type": "code",
   "execution_count": 5,
   "metadata": {},
   "outputs": [
    {
     "data": {
      "text/latex": [
       "$\\displaystyle \\phi = A_{03} y^{3}$"
      ],
      "text/plain": [
       "<IPython.core.display.Math object>"
      ]
     },
     "metadata": {},
     "output_type": "display_data"
    }
   ],
   "source": [
    "phi = phi.subs([(A00,0),(A01,0),(A02,0),(A10,0),(A11,0),(A12,0),(A20,0),(A21,0),(A30,0)])\n",
    "display(Math('\\phi = {}'.format(sp.latex(phi))))"
   ]
  },
  {
   "cell_type": "code",
   "execution_count": 6,
   "metadata": {},
   "outputs": [
    {
     "data": {
      "text/latex": [
       "$\\displaystyle \\sigma_{xx} = 6 A_{03} y$"
      ],
      "text/plain": [
       "<IPython.core.display.Math object>"
      ]
     },
     "metadata": {},
     "output_type": "display_data"
    },
    {
     "data": {
      "text/latex": [
       "$\\displaystyle \\sigma_{yy} = 0$"
      ],
      "text/plain": [
       "<IPython.core.display.Math object>"
      ]
     },
     "metadata": {},
     "output_type": "display_data"
    },
    {
     "data": {
      "text/latex": [
       "$\\displaystyle \\sigma_{xy} = 0$"
      ],
      "text/plain": [
       "<IPython.core.display.Math object>"
      ]
     },
     "metadata": {},
     "output_type": "display_data"
    }
   ],
   "source": [
    "sigmaxx = sigma_xx(phi)\n",
    "sigmayy = sigma_yy(phi)\n",
    "sigmaxy = sigma_xy(phi)\n",
    "\n",
    "display(Math('\\sigma_{{xx}} = {}'.format(sp.latex(sigmaxx))))\n",
    "display(Math('\\sigma_{{yy}} = {}'.format(sp.latex(sigmayy))))\n",
    "display(Math('\\sigma_{{xy}} = {}'.format(sp.latex(sigmaxy))))"
   ]
  },
  {
   "cell_type": "markdown",
   "metadata": {},
   "source": [
    "At $x = \\pm l$, $\\int_{-c}^{c} \\sigma_{xx}(\\pm l,y)ydy = -M$. We use this boundary condition to determine the value of $A_{03}$."
   ]
  },
  {
   "cell_type": "code",
   "execution_count": 7,
   "metadata": {},
   "outputs": [
    {
     "data": {
      "text/latex": [
       "$\\displaystyle 4 A_{03} c^{3} = - M$"
      ],
      "text/plain": [
       "Eq(4*A03*c**3, -M)"
      ]
     },
     "metadata": {},
     "output_type": "display_data"
    },
    {
     "data": {
      "text/latex": [
       "$\\displaystyle A_{03} = - \\frac{M}{4 c^{3}}$"
      ],
      "text/plain": [
       "<IPython.core.display.Math object>"
      ]
     },
     "metadata": {},
     "output_type": "display_data"
    }
   ],
   "source": [
    "lhs = sp.integrate(sigmaxx*y,(y,-c,c))\n",
    "rhs = -M\n",
    "eq = sp.Eq(lhs,rhs)\n",
    "display(eq)\n",
    "\n",
    "sol = sp.solve(eq,A03)\n",
    "A03_sol = sol[0]\n",
    "display(Math('A_{{03}} = {}'.format(sp.latex(A03_sol))))"
   ]
  },
  {
   "cell_type": "code",
   "execution_count": 8,
   "metadata": {},
   "outputs": [
    {
     "data": {
      "text/latex": [
       "$\\displaystyle \\phi = - \\frac{M y^{3}}{4 c^{3}}$"
      ],
      "text/plain": [
       "<IPython.core.display.Math object>"
      ]
     },
     "metadata": {},
     "output_type": "display_data"
    }
   ],
   "source": [
    "phi = phi.subs(A03,A03_sol)\n",
    "display(Math('\\phi = {}'.format(sp.latex(phi))))"
   ]
  },
  {
   "cell_type": "code",
   "execution_count": 9,
   "metadata": {},
   "outputs": [
    {
     "data": {
      "text/latex": [
       "$\\displaystyle \\sigma_{xx} = - \\frac{3 M y}{2 c^{3}}$"
      ],
      "text/plain": [
       "<IPython.core.display.Math object>"
      ]
     },
     "metadata": {},
     "output_type": "display_data"
    },
    {
     "data": {
      "text/latex": [
       "$\\displaystyle \\sigma_{yy} = 0$"
      ],
      "text/plain": [
       "<IPython.core.display.Math object>"
      ]
     },
     "metadata": {},
     "output_type": "display_data"
    },
    {
     "data": {
      "text/latex": [
       "$\\displaystyle \\sigma_{xy} = 0$"
      ],
      "text/plain": [
       "<IPython.core.display.Math object>"
      ]
     },
     "metadata": {},
     "output_type": "display_data"
    }
   ],
   "source": [
    "sigmaxx = sigma_xx(phi)\n",
    "sigmayy = sigma_yy(phi)\n",
    "sigmaxy = sigma_xy(phi)\n",
    "\n",
    "display(Math('\\sigma_{{xx}} = {}'.format(sp.latex(sigmaxx))))\n",
    "display(Math('\\sigma_{{yy}} = {}'.format(sp.latex(sigmayy))))\n",
    "display(Math('\\sigma_{{xy}} = {}'.format(sp.latex(sigmaxy))))"
   ]
  },
  {
   "cell_type": "code",
   "execution_count": 10,
   "metadata": {},
   "outputs": [
    {
     "data": {
      "text/latex": [
       "$\\displaystyle \\epsilon_{xx} = - \\frac{3 M y}{2 E c^{3}}$"
      ],
      "text/plain": [
       "<IPython.core.display.Math object>"
      ]
     },
     "metadata": {},
     "output_type": "display_data"
    },
    {
     "data": {
      "text/latex": [
       "$\\displaystyle \\epsilon_{yy} = \\frac{3 M \\nu y}{2 E c^{3}}$"
      ],
      "text/plain": [
       "<IPython.core.display.Math object>"
      ]
     },
     "metadata": {},
     "output_type": "display_data"
    },
    {
     "data": {
      "text/latex": [
       "$\\displaystyle \\epsilon_{xy} = 0$"
      ],
      "text/plain": [
       "<IPython.core.display.Math object>"
      ]
     },
     "metadata": {},
     "output_type": "display_data"
    }
   ],
   "source": [
    "epsilonxx = epsilon_xx(sigmaxx, sigmayy)\n",
    "epsilonyy = epsilon_yy(sigmayy, sigmaxx)\n",
    "epsilonxy = epsilon_xy(sigmaxy)\n",
    "\n",
    "display(Math('\\epsilon_{{xx}} = {}'.format(sp.latex(epsilonxx))))\n",
    "display(Math('\\epsilon_{{yy}} = {}'.format(sp.latex(epsilonyy))))\n",
    "display(Math('\\epsilon_{{xy}} = {}'.format(sp.latex(epsilonxy))))"
   ]
  },
  {
   "cell_type": "code",
   "execution_count": 11,
   "metadata": {},
   "outputs": [
    {
     "data": {
      "text/latex": [
       "$\\displaystyle u(x,y) = \\operatorname{f_{1}}{\\left(y \\right)} - \\frac{3 M x y}{2 E c^{3}}$"
      ],
      "text/plain": [
       "<IPython.core.display.Math object>"
      ]
     },
     "metadata": {},
     "output_type": "display_data"
    },
    {
     "data": {
      "text/latex": [
       "$\\displaystyle v(x,y) = \\operatorname{f_{2}}{\\left(x \\right)} + \\frac{3 M \\nu y^{2}}{4 E c^{3}}$"
      ],
      "text/plain": [
       "<IPython.core.display.Math object>"
      ]
     },
     "metadata": {},
     "output_type": "display_data"
    }
   ],
   "source": [
    "u = sp.Function('u')(x,y)\n",
    "v = sp.Function('v')(x,y)\n",
    "f1= sp.Function('f1')(y)\n",
    "f2= sp.Function('f2')(x)\n",
    "\n",
    "u = sp.integrate(epsilonxx,x) + f1\n",
    "v = sp.integrate(epsilonyy,y) + f2\n",
    "\n",
    "display(Math('u(x,y) = {}'.format(sp.latex(u))))\n",
    "display(Math('v(x,y) = {}'.format(sp.latex(v))))"
   ]
  },
  {
   "cell_type": "code",
   "execution_count": 12,
   "metadata": {},
   "outputs": [
    {
     "data": {
      "text/latex": [
       "$\\displaystyle \\frac{d}{d y} \\operatorname{f_{1}}{\\left(y \\right)} + \\frac{d}{d x} \\operatorname{f_{2}}{\\left(x \\right)} - \\frac{3 M x}{2 E c^{3}} = 0$"
      ],
      "text/plain": [
       "Eq(Derivative(f1(y), y) + Derivative(f2(x), x) - 3*M*x/(2*E*c**3), 0)"
      ]
     },
     "metadata": {},
     "output_type": "display_data"
    }
   ],
   "source": [
    "lhs = sp.diff(u,y) + sp.diff(v,x)\n",
    "rhs = epsilonxy\n",
    "eq = sp.Eq(lhs,rhs)\n",
    "display(eq)"
   ]
  },
  {
   "cell_type": "code",
   "execution_count": 13,
   "metadata": {},
   "outputs": [
    {
     "data": {
      "text/latex": [
       "$\\displaystyle \\operatorname{f_{1}}{\\left(y \\right)} = - C y + C_{1}$"
      ],
      "text/plain": [
       "<IPython.core.display.Math object>"
      ]
     },
     "metadata": {},
     "output_type": "display_data"
    },
    {
     "data": {
      "text/latex": [
       "$\\displaystyle \\operatorname{f_{2}}{\\left(x \\right)} = C x + C_{1} + \\frac{3 M x^{2}}{4 E c^{3}}$"
      ],
      "text/plain": [
       "<IPython.core.display.Math object>"
      ]
     },
     "metadata": {},
     "output_type": "display_data"
    }
   ],
   "source": [
    "C = sp.Symbol('C')\n",
    "C1, C2= sp.symbols('C1, C2')\n",
    "\n",
    "eq1 = sp.Eq(sp.diff(f1,y),-C)\n",
    "f1_sol = sp.dsolve(eq1)\n",
    "display(Math('{}'.format(sp.latex(f1_sol))))\n",
    "\n",
    "eq2 = sp.Eq(sp.diff(f2,x)-(3*M*x/2/E/c**3),C)\n",
    "f2_sol = sp.dsolve(eq2)\n",
    "display(Math('{}'.format(sp.latex(f2_sol))))"
   ]
  },
  {
   "cell_type": "code",
   "execution_count": 14,
   "metadata": {},
   "outputs": [
    {
     "data": {
      "text/latex": [
       "$\\displaystyle u(x,y) = - C y + C_{1} - \\frac{3 M x y}{2 E c^{3}}$"
      ],
      "text/plain": [
       "<IPython.core.display.Math object>"
      ]
     },
     "metadata": {},
     "output_type": "display_data"
    },
    {
     "data": {
      "text/latex": [
       "$\\displaystyle v(x,y) = C x + C_{2} + \\frac{3 M \\nu y^{2}}{4 E c^{3}} + \\frac{3 M x^{2}}{4 E c^{3}}$"
      ],
      "text/plain": [
       "<IPython.core.display.Math object>"
      ]
     },
     "metadata": {},
     "output_type": "display_data"
    }
   ],
   "source": [
    "f1 = -C*y + C1\n",
    "f2 = C*x + (3*M*x**2/4/E/c**3) + C2\n",
    "\n",
    "u = sp.integrate(epsilonxx,x) + f1\n",
    "v = sp.integrate(epsilonyy,y) + f2\n",
    "\n",
    "display(Math('u(x,y) = {}'.format(sp.latex(u))))\n",
    "display(Math('v(x,y) = {}'.format(sp.latex(v))))"
   ]
  }
 ],
 "metadata": {
  "kernelspec": {
   "display_name": "Python 3",
   "language": "python",
   "name": "python3"
  },
  "language_info": {
   "codemirror_mode": {
    "name": "ipython",
    "version": 3
   },
   "file_extension": ".py",
   "mimetype": "text/x-python",
   "name": "python",
   "nbconvert_exporter": "python",
   "pygments_lexer": "ipython3",
   "version": "3.7.4"
  }
 },
 "nbformat": 4,
 "nbformat_minor": 2
}
